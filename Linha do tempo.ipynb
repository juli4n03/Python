{
 "cells": [
  {
   "cell_type": "markdown",
   "id": "66a4abb9",
   "metadata": {},
   "source": [
    "<h2>Pacotes</h2>"
   ]
  },
  {
   "cell_type": "code",
   "execution_count": 35,
   "id": "4d3fc972",
   "metadata": {},
   "outputs": [],
   "source": [
    "import os\n",
    "import openpyxl\n",
    "from openpyxl import load_workbook\n",
    "from openpyxl.styles import PatternFill, Font, Alignment, numbers\n",
    "from openpyxl.styles.borders import Border, Side\n",
    "from openpyxl.utils.cell import column_index_from_string, get_column_letter\n",
    "from openpyxl.formatting.rule import ColorScaleRule\n",
    "from openpyxl.utils import column_index_from_string"
   ]
  },
  {
   "cell_type": "markdown",
   "id": "f4a8c3b4",
   "metadata": {},
   "source": [
    "<h2>Funções</h2>"
   ]
  },
  {
   "cell_type": "code",
   "execution_count": 48,
   "id": "d0f84b10",
   "metadata": {},
   "outputs": [],
   "source": [
    "def rename_files(directory):\n",
    "    for filename in os.listdir(directory):\n",
    "        if \"_122022a042023\" in filename:\n",
    "            new_name = filename.replace(\"_122022a052023\", \"_122022a0520233\")\n",
    "            original_file = os.path.join(directory, filename)\n",
    "            new_file = os.path.join(directory, new_name)\n",
    "            os.rename(original_file, new_file)\n",
    "            print(f'Renamed file {original_file} to {new_file}')\n",
    "\n",
    "def clear_formats(input_directory, output_directory):\n",
    "    for file_name in os.listdir(input_directory):\n",
    "        if file_name.endswith(\".xlsx\"):\n",
    "            input_filename = os.path.join(input_directory, file_name)\n",
    "            workbook = load_workbook(input_filename)\n",
    "            default_fill = PatternFill(fill_type=None)\n",
    "            default_font = Font(bold=False, italic=False, strike=False)\n",
    "            default_border = Border()\n",
    "            for sheet_name in workbook.sheetnames:\n",
    "                sheet = workbook[sheet_name]\n",
    "                sheet.conditional_formatting = sheet.conditional_formatting.__class__()\n",
    "                merged_cells_ranges = list(sheet.merged_cells.ranges)\n",
    "                for merged_cell_range in merged_cells_ranges:\n",
    "                    sheet.unmerge_cells(str(merged_cell_range))\n",
    "                for row in sheet.iter_rows():\n",
    "                    for cell in row:\n",
    "                        cell.fill = default_fill\n",
    "                        cell.font = default_font\n",
    "                        cell.border = default_border\n",
    "            if not os.path.exists(output_directory):\n",
    "                os.makedirs(output_directory)\n",
    "            output_filename = os.path.join(output_directory, file_name)\n",
    "            workbook.save(output_filename)\n",
    "    \n",
    "def get_custom_text(file_name):\n",
    "    month_number = int(file_name.split('_')[-1][:2])\n",
    "    month_names = {\n",
    "        1: \"jan/23\",\n",
    "        2: \"fev/23\",\n",
    "        3: \"mar/23\",\n",
    "        4: \"abr/23\",\n",
    "        5: \"mai/23\",\n",
    "        6: \"jun/23\",\n",
    "        7: \"jul/23\",\n",
    "        8: \"ago/23\",\n",
    "        9: \"set/23\",\n",
    "        10: \"out/23\",\n",
    "        11: \"nov/23\",\n",
    "        12: \"dez/23\"\n",
    "    }\n",
    "    return month_names.get(month_number, \"Mês não encontrado\")\n",
    "\n",
    "def apply_function_to_workbook(directory_path):\n",
    "    for file_name in os.listdir(directory_path):\n",
    "        if file_name.endswith(\".xlsx\"):\n",
    "            file_path = os.path.join(directory_path, file_name)\n",
    "            workbook = openpyxl.load_workbook(file_path)\n",
    "            target_cells = [\"B1\", \"B11\", \"B26\", \"B41\", \"B56\", \"B71\"] #REGIÃO\n",
    "            #target_cells = [\"B1\", \"B16\", \"B31\"] #CLIENTE\n",
    "            custom_text = get_custom_text(file_name)\n",
    "            for sheet in workbook.worksheets:\n",
    "                for cell_address in target_cells:\n",
    "                    cell = sheet[cell_address]\n",
    "                    cell.value = custom_text\n",
    "            workbook.save(file_path)\n",
    "    \n",
    "def copy_columns_to_first_empty(input_directory, target_directory, output_directory):\n",
    "    input_files = [f for f in os.listdir(input_directory) if f.endswith(\".xlsx\")]\n",
    "    target_files = [f for f in os.listdir(target_directory) if f.endswith(\".xlsx\")]\n",
    "    if len(input_files) != len(target_files):\n",
    "        print(\"O número de arquivos nas pastas de entrada e alvo não é o mesmo.\")\n",
    "        return\n",
    "    for input_file, target_file in zip(input_files, target_files):\n",
    "        input_filename = os.path.join(input_directory, input_file)\n",
    "        target_filename = os.path.join(target_directory, target_file)\n",
    "        input_workbook = load_workbook(input_filename)\n",
    "        target_workbook = load_workbook(target_filename)\n",
    "        for sheet_name in input_workbook.sheetnames:\n",
    "            input_sheet = input_workbook[sheet_name]\n",
    "            target_sheet = target_workbook[sheet_name]\n",
    "            first_empty_col = target_sheet.max_column + 1\n",
    "            for col in range(2, input_sheet.max_column + 1):\n",
    "                for row in range(1, input_sheet.max_row + 1):\n",
    "                    target_sheet.cell(row=row + 1, column=first_empty_col + col - 2).value = input_sheet.cell(row=row, column=col).value\n",
    "                    #target_sheet.cell(row=row + 3, column=first_empty_col + col - 2).value = input_sheet.cell(row=row, column=col).value\n",
    "        if not os.path.exists(output_directory):\n",
    "            os.makedirs(output_directory)\n",
    "        output_filename = os.path.join(output_directory, target_file)\n",
    "        target_workbook.save(output_filename)"
   ]
  },
  {
   "cell_type": "markdown",
   "id": "ea9c5308",
   "metadata": {},
   "source": [
    "<h2>Aplicar nome dos mês nos arquivos R</h2>"
   ]
  },
  {
   "cell_type": "code",
   "execution_count": 27,
   "id": "48172e52",
   "metadata": {},
   "outputs": [],
   "source": [
    "directory_path = r\"C:\\Users\\JulianoCesardaSilva\\Desktop\\BADS - Estudos Stepwise\\BADS_07062023\\EP\\Taxas de Aprovação\\Por região\\Arquivos R\\Abr\"\n",
    "apply_function_to_workbook(directory_path)"
   ]
  },
  {
   "cell_type": "markdown",
   "id": "6c874595",
   "metadata": {},
   "source": [
    "<h2>Copiar dados</h2>"
   ]
  },
  {
   "cell_type": "code",
   "execution_count": 29,
   "id": "64578d64",
   "metadata": {},
   "outputs": [],
   "source": [
    "input_directory = r\"C:\\Users\\JulianoCesardaSilva\\Desktop\\BADS - Estudos Stepwise\\BADS_07062023\\EP\\Taxas de Aprovação\\Por região\\Arquivos R\\Mai\"\n",
    "target_directory = r\"C:\\Users\\JulianoCesardaSilva\\Desktop\\BADS - Estudos Stepwise\\BADS_07062023\\EP\\Taxas de Aprovação\\Por região\\Relatórios\"\n",
    "output_directory = r\"C:\\Users\\JulianoCesardaSilva\\Desktop\\BADS - Estudos Stepwise\\BADS_07062023\\EP\\Taxas de Aprovação\\Por região\\Relatórios\\Atualizado\"\n",
    "copy_columns_to_first_empty(input_directory, target_directory,output_directory)"
   ]
  },
  {
   "cell_type": "markdown",
   "id": "0bea7ef2",
   "metadata": {},
   "source": [
    "<h2>Limpar formatações</h2>"
   ]
  },
  {
   "cell_type": "code",
   "execution_count": 10,
   "id": "97c91498",
   "metadata": {},
   "outputs": [],
   "source": [
    "input_directory = r\"C:\\Users\\JulianoCesardaSilva\\Downloads\\EP\\Taxas de Aprovação\\Por região\\Relatórios\"\n",
    "output_directory = r\"C:\\Users\\JulianoCesardaSilva\\Downloads\\EP\\Taxas de Aprovação\\Por região\\Relatórios\\Atualizado\"\n",
    "clear_formats(input_directory, output_directory)"
   ]
  },
  {
   "cell_type": "markdown",
   "id": "b3f634cd",
   "metadata": {},
   "source": [
    "<h2> Mudando nome dos arquivos </h2>"
   ]
  },
  {
   "cell_type": "code",
   "execution_count": 50,
   "id": "6fc956d3",
   "metadata": {
    "scrolled": false
   },
   "outputs": [
    {
     "name": "stdout",
     "output_type": "stream",
     "text": [
      "Renamed file C:\\Users\\JulianoCesardaSilva\\Desktop\\BADS - Estudos Stepwise\\BADS_07062023\\CDCE\\Taxas de Aprovação\\Por região\\Relatórios\\Comum_CDCM_Eletrosom_TxAprov_Bad_122022a042023.xlsx to C:\\Users\\JulianoCesardaSilva\\Desktop\\BADS - Estudos Stepwise\\BADS_07062023\\CDCE\\Taxas de Aprovação\\Por região\\Relatórios\\Comum_CDCM_Eletrosom_TxAprov_Bad_122022a042023.xlsx\n",
      "Renamed file C:\\Users\\JulianoCesardaSilva\\Desktop\\BADS - Estudos Stepwise\\BADS_07062023\\CDCE\\Taxas de Aprovação\\Por região\\Relatórios\\Diamante_CDCM_Eletrosom_TxAprov_Bad_122022a042023.xlsx to C:\\Users\\JulianoCesardaSilva\\Desktop\\BADS - Estudos Stepwise\\BADS_07062023\\CDCE\\Taxas de Aprovação\\Por região\\Relatórios\\Diamante_CDCM_Eletrosom_TxAprov_Bad_122022a042023.xlsx\n",
      "Renamed file C:\\Users\\JulianoCesardaSilva\\Desktop\\BADS - Estudos Stepwise\\BADS_07062023\\CDCE\\Taxas de Aprovação\\Por região\\Relatórios\\Geral_CDCM_Eletrosom_TxAprov_Bad_122022a042023.xlsx to C:\\Users\\JulianoCesardaSilva\\Desktop\\BADS - Estudos Stepwise\\BADS_07062023\\CDCE\\Taxas de Aprovação\\Por região\\Relatórios\\Geral_CDCM_Eletrosom_TxAprov_Bad_122022a042023.xlsx\n"
     ]
    }
   ],
   "source": [
    "rename_files(r\"C:\\Users\\JulianoCesardaSilva\\Desktop\\BADS - Estudos Stepwise\\BADS_07062023\\CDCE\\Taxas de Aprovação\\Por região\\Relatórios\")"
   ]
  },
  {
   "cell_type": "code",
   "execution_count": null,
   "id": "8d7d779f",
   "metadata": {},
   "outputs": [],
   "source": []
  }
 ],
 "metadata": {
  "kernelspec": {
   "display_name": "Python 3",
   "language": "python",
   "name": "python3"
  },
  "language_info": {
   "codemirror_mode": {
    "name": "ipython",
    "version": 3
   },
   "file_extension": ".py",
   "mimetype": "text/x-python",
   "name": "python",
   "nbconvert_exporter": "python",
   "pygments_lexer": "ipython3",
   "version": "3.8.8"
  }
 },
 "nbformat": 4,
 "nbformat_minor": 5
}
