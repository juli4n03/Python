{
 "cells": [
  {
   "cell_type": "markdown",
   "id": "fa9e163d",
   "metadata": {},
   "source": [
    "<h1>Pacotes necessários</h1>"
   ]
  },
  {
   "cell_type": "code",
   "execution_count": 2,
   "id": "4e3a0feb",
   "metadata": {},
   "outputs": [],
   "source": [
    "import os\n",
    "import openpyxl\n",
    "from openpyxl.styles import PatternFill, Font, Alignment, numbers\n",
    "from openpyxl.styles.borders import Border, Side\n",
    "from openpyxl.formatting.rule import ColorScaleRule\n",
    "from openpyxl import load_workbook"
   ]
  },
  {
   "cell_type": "markdown",
   "id": "b1dba7f4",
   "metadata": {},
   "source": [
    "<h1> Carregando todos os arquivos </h1>"
   ]
  },
  {
   "cell_type": "code",
   "execution_count": 3,
   "id": "74aac57d",
   "metadata": {},
   "outputs": [
    {
     "name": "stdout",
     "output_type": "stream",
     "text": [
      "['Edmil_EP_TxAprov_Bad_092022a032023.xlsx', 'Eletrosom_EP_TxAprov_Bad_092022a032023.xlsx', 'Geral_EP_TxAprov_Bad_092022a032023.xlsx', 'NovoMundo_EP_TxAprov_Bad_092022a032023.xlsx']\n"
     ]
    }
   ],
   "source": [
    "path = r'C:\\Users\\JulianoCesardaSilva\\Downloads\\EP\\Taxas de Aprovação\\Por região\\Relatórios\\Atualizado'\n",
    "\n",
    "#lista com os nomes de cada tabela\n",
    "tableNames = os.listdir(path)#[1:]\n",
    "print(tableNames)"
   ]
  },
  {
   "cell_type": "markdown",
   "id": "de785534",
   "metadata": {},
   "source": [
    "<h1> Definindo cor de letra, tamanho, cor de fundo, formato negrito</h1>"
   ]
  },
  {
   "cell_type": "code",
   "execution_count": 4,
   "id": "49176bf1",
   "metadata": {},
   "outputs": [],
   "source": [
    "# Título da Região\n",
    "cell_bg_color = PatternFill(start_color='A6A6A6', end_color='A6A6A6', fill_type='solid')\n",
    "cell_font = Font(color='FFFFFF', bold=True, size=16)\n",
    "\n",
    "# Cabeçario e Total\n",
    "cell_bg_color2 = PatternFill(start_color='002060', end_color='002060', fill_type='solid')\n",
    "cell_font2 = Font(color='FFFFFF', bold=True, size=11)\n",
    "\n",
    "# Título do Cliente\n",
    "cell_bg_color3 = PatternFill(start_color='FFC000', end_color='FFC000', fill_type='solid')\n",
    "cell_font3 = Font(color='000000', bold=True, size=11)\n",
    "\n",
    "# Define as configurações da borda\n",
    "border_style = Border(\n",
    "    left=Side(border_style='thin', color='000000'),\n",
    "    right=Side(border_style='thin', color='000000'),\n",
    "    top=Side(border_style='thin', color='000000'),\n",
    "    bottom=Side(border_style='thin', color='000000')\n",
    ")\n"
   ]
  },
  {
   "cell_type": "markdown",
   "id": "6c314dda",
   "metadata": {},
   "source": [
    "<h1> Funções </h1>"
   ]
  },
  {
   "cell_type": "markdown",
   "id": "96630751",
   "metadata": {},
   "source": [
    "<h4> Bordas externas espessas </h4>"
   ]
  },
  {
   "cell_type": "code",
   "execution_count": 5,
   "id": "d875ee88",
   "metadata": {},
   "outputs": [],
   "source": [
    "def apply_thick_borders(sheet, cell_range):\n",
    "    thick_border = Side(style='thick')\n",
    "\n",
    "    start_cell = sheet[cell_range.split(':')[0]]\n",
    "    end_cell = sheet[cell_range.split(':')[1]]\n",
    "    \n",
    "    start_row, end_row = start_cell.row, end_cell.row\n",
    "    start_col, end_col = start_cell.column, end_cell.column\n",
    "\n",
    "    for row in range(start_row, end_row + 1):\n",
    "        for col in range(start_col, end_col + 1):\n",
    "            cell = sheet.cell(row=row, column=col)\n",
    "            if row == start_row:\n",
    "                cell.border += Border(top=thick_border)\n",
    "            if row == end_row:\n",
    "                cell.border += Border(bottom=thick_border)\n",
    "            if col == start_col:\n",
    "                cell.border += Border(left=thick_border)\n",
    "            if col == end_col:\n",
    "                cell.border += Border(right=thick_border)"
   ]
  },
  {
   "cell_type": "markdown",
   "id": "45a30f52",
   "metadata": {},
   "source": [
    "<h4> Bordas Internas </h4>"
   ]
  },
  {
   "cell_type": "code",
   "execution_count": 6,
   "id": "1a151b67",
   "metadata": {},
   "outputs": [],
   "source": [
    "def apply_internal_borders(sheet, cell_range):\n",
    "    thin_border = Side(style='thin')\n",
    "\n",
    "    start_cell = sheet[cell_range.split(':')[0]]\n",
    "    end_cell = sheet[cell_range.split(':')[1]]\n",
    "    \n",
    "    start_row, end_row = start_cell.row, end_cell.row\n",
    "    start_col, end_col = start_cell.column, end_cell.column\n",
    "\n",
    "    for row in range(start_row, end_row + 1):\n",
    "        for col in range(start_col, end_col + 1):\n",
    "            cell = sheet.cell(row=row, column=col)\n",
    "            if row > start_row:\n",
    "                cell.border += Border(top=thin_border)\n",
    "            if row < end_row:\n",
    "                cell.border += Border(bottom=thin_border)\n",
    "            if col > start_col:\n",
    "                cell.border += Border(left=thin_border)\n",
    "            if col < end_col:\n",
    "                cell.border += Border(right=thin_border) "
   ]
  },
  {
   "cell_type": "markdown",
   "id": "07a8b783",
   "metadata": {},
   "source": [
    "<h4> Mesclar e Centralizar </h4>"
   ]
  },
  {
   "cell_type": "code",
   "execution_count": 7,
   "id": "9070383d",
   "metadata": {},
   "outputs": [],
   "source": [
    "def merge_and_center(sheet, cell_range, text):\n",
    "    sheet.merge_cells(cell_range)\n",
    "    start_cell = sheet[cell_range.split(':')[0]]\n",
    "    start_cell.value = text\n",
    "    start_cell.alignment = Alignment(horizontal='center', vertical='center')\n",
    "    start_cell.font = Font(bold=True)"
   ]
  },
  {
   "cell_type": "markdown",
   "id": "6041291c",
   "metadata": {},
   "source": [
    "<h4> Extrair o mês do nome do arquivo </h4>"
   ]
  },
  {
   "cell_type": "code",
   "execution_count": 8,
   "id": "2674ee3e",
   "metadata": {},
   "outputs": [],
   "source": [
    "def get_custom_text(file_name):\n",
    "    month_number = int(file_name.split('_')[-1][:2])\n",
    "    month_names = {\n",
    "        1: \"jan/23\",\n",
    "        2: \"fev/23\",\n",
    "        3: \"mar/23\",\n",
    "        4: \"abr/23\",\n",
    "        5: \"mai/23\",\n",
    "        6: \"jun/23\",\n",
    "        7: \"jul/23\",\n",
    "        8: \"ago/23\",\n",
    "        9: \"set/23\",\n",
    "        10: \"out/23\",\n",
    "        11: \"nov/23\",\n",
    "        12: \"dez/23\"\n",
    "    }\n",
    "    return month_names.get(month_number, \"Mês não encontrado\")"
   ]
  },
  {
   "cell_type": "markdown",
   "id": "da1e1643",
   "metadata": {},
   "source": [
    "<h1> Formatações </h1>"
   ]
  },
  {
   "cell_type": "code",
   "execution_count": 11,
   "id": "9982fde2",
   "metadata": {},
   "outputs": [],
   "source": [
    "for tb in tableNames:\n",
    "    file_path = os.path.join(path, tb)\n",
    "\n",
    "    # Carregar o arquivo Excel\n",
    "    workbook = openpyxl.load_workbook(file_path)\n",
    "\n",
    "    # Nome das abas\n",
    "    sheet_names = []\n",
    "\n",
    "    for sheet_name in workbook.sheetnames:\n",
    "        sheet_names.append(sheet_name)\n",
    "\n",
    "    # loop pelas abas\n",
    "    for sheet_name in sheet_names:\n",
    "        sheet = workbook[sheet_name]\n",
    "        \n",
    "################################################ Mesclar e centralizar #########################################################            \n",
    "        \n",
    "        cell_mescla = [\"B1:I1\", \"B11:I11\", \"B26:I26\", \"B41:I41\", \"B56:I56\", \"B71:I71\"]\n",
    "        custom_text = get_custom_text(tb)\n",
    "        for cell_range in cell_mescla:\n",
    "            merge_and_center(sheet, cell_range, custom_text)\n",
    "            \n",
    "        \n",
    "############################################### Bordas externas espessas #######################################################\n",
    "        cell_ranges = ['B1:I9', 'B11:I24', 'B26:I39', 'B41:I54', 'B56:I69', 'B71:I84']\n",
    "        for cell_range in cell_ranges:\n",
    "            apply_thick_borders(sheet, cell_range)\n",
    "\n",
    "        \n",
    "##################################################### Bordas Internas ##########################################################\n",
    "\n",
    "\n",
    "        cell_ranges = ['B3:I9', 'B13:I24', 'B28:I39', 'B43:I54', 'B58:I69', 'B73:I84']\n",
    "        for cell_range in cell_ranges:\n",
    "            apply_internal_borders(sheet, cell_range)\n",
    "\n",
    "\n",
    "####################################################### Título #################################################################\n",
    "\n",
    "        cells_to_style = [1, 11, 26, 41, 56, 71]\n",
    "        for cell_num in cells_to_style:\n",
    "            cell = sheet.cell(row=cell_num, column=1)\n",
    "            cell.fill = cell_bg_color\n",
    "            cell.font = cell_font\n",
    "\n",
    "################################################### Cabeçario e Total ##########################################################\n",
    "\n",
    "        cells_to_style2 = [2, 9, 12, 24, 27, 39, 42, 54, 57, 69, 72, 84]\n",
    "        for row_num in cells_to_style2:\n",
    "            for col_num in range(1, 10):\n",
    "                cell = sheet.cell(row=row_num, column=col_num)\n",
    "                cell.fill = cell_bg_color2\n",
    "                cell.font = cell_font2\n",
    "                \n",
    "############################################## Formatando em Porcentagem #######################################################\n",
    "        \n",
    "        columns_to_format = [4,6,8,9]\n",
    "        for column in columns_to_format:\n",
    "            for row in sheet.iter_rows(min_row=1, max_row=sheet.max_row, min_col=column, max_col=column):\n",
    "                cell = row[0]\n",
    "                cell.number_format = numbers.FORMAT_PERCENTAGE_00\n",
    "\n",
    "############################################## Formatando em Número Inteiro ####################################################\n",
    "\n",
    "        colunas_para_formatar = [2, 3, 5, 7]  \n",
    "        for coluna in colunas_para_formatar:\n",
    "            for linha in range(1, sheet.max_row + 1):\n",
    "                sheet.cell(row=linha, column=coluna).number_format = '#,##0'\n",
    "\n",
    "############################################## Formatação Condicional ##########################################################\n",
    "\n",
    "        cell_ranges = [\"H3:I8\", \"H13:I23\", \"H28:I38\",'H43:I53','H58:I68','H73:I83']\n",
    "\n",
    "        color_scale_rule = ColorScaleRule(\n",
    "            start_type=\"min\", start_color= \"63BE7B\",  # Verde\n",
    "            mid_type=\"percentile\", mid_value=50, mid_color= \"FFEB84\",  # Amarelo\n",
    "            end_type=\"max\", end_color= \"F8696B\"  # Vermelho\n",
    "        )\n",
    "        for cell_range in cell_ranges:\n",
    "            sheet.conditional_formatting.add(cell_range, color_scale_rule)\n",
    "            \n",
    "############################################## Salvando arquivo ################################################################\n",
    "\n",
    "    \n",
    "    workbook.save(r'C:\\Users\\JulianoCesardaSilva\\Downloads\\EP\\Taxas de Aprovação\\Por região\\Relatórios\\Atualizado' + tb)"
   ]
  },
  {
   "cell_type": "code",
   "execution_count": null,
   "id": "5d27a8c2",
   "metadata": {},
   "outputs": [],
   "source": []
  },
  {
   "cell_type": "code",
   "execution_count": null,
   "id": "878c0f12",
   "metadata": {},
   "outputs": [],
   "source": []
  }
 ],
 "metadata": {
  "kernelspec": {
   "display_name": "Python 3",
   "language": "python",
   "name": "python3"
  },
  "language_info": {
   "codemirror_mode": {
    "name": "ipython",
    "version": 3
   },
   "file_extension": ".py",
   "mimetype": "text/x-python",
   "name": "python",
   "nbconvert_exporter": "python",
   "pygments_lexer": "ipython3",
   "version": "3.8.8"
  }
 },
 "nbformat": 4,
 "nbformat_minor": 5
}
